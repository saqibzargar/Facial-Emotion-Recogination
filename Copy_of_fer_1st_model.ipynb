{
  "nbformat": 4,
  "nbformat_minor": 0,
  "metadata": {
    "colab": {
      "name": "Copy_of_fer_1st_model.ipynb",
      "provenance": [],
      "collapsed_sections": [],
      "toc_visible": true
    },
    "language_info": {
      "codemirror_mode": {
        "name": "ipython",
        "version": 3
      },
      "file_extension": ".py",
      "mimetype": "text/x-python",
      "name": "python",
      "nbconvert_exporter": "python",
      "pygments_lexer": "ipython3",
      "version": "3.7.0"
    },
    "kernelspec": {
      "display_name": "Python 3",
      "language": "python",
      "name": "python3"
    },
    "accelerator": "GPU"
  },
  "cells": [
    {
      "cell_type": "markdown",
      "metadata": {
        "colab_type": "text",
        "id": "ZTIHNr0Yyk6c"
      },
      "source": [
        "# Loading necessary libraries"
      ]
    },
    {
      "cell_type": "code",
      "metadata": {
        "id": "JtsZvBIBsnvL",
        "colab_type": "code",
        "outputId": "039b756a-d377-4239-fc4f-80724364393d",
        "colab": {
          "base_uri": "https://localhost:8080/",
          "height": 147
        }
      },
      "source": [
        "from google.colab import drive\n",
        "drive.mount('/content/drive/',force_remount=True)\n",
        "root_path = '/content/drive/My Drive/Colab Notebooks'\n",
        "!ls"
      ],
      "execution_count": 0,
      "outputs": [
        {
          "output_type": "stream",
          "text": [
            "Go to this URL in a browser: https://accounts.google.com/o/oauth2/auth?client_id=947318989803-6bn6qk8qdgf4n4g3pfee6491hc0brc4i.apps.googleusercontent.com&redirect_uri=urn%3Aietf%3Awg%3Aoauth%3A2.0%3Aoob&scope=email%20https%3A%2F%2Fwww.googleapis.com%2Fauth%2Fdocs.test%20https%3A%2F%2Fwww.googleapis.com%2Fauth%2Fdrive%20https%3A%2F%2Fwww.googleapis.com%2Fauth%2Fdrive.photos.readonly%20https%3A%2F%2Fwww.googleapis.com%2Fauth%2Fpeopleapi.readonly&response_type=code\n",
            "\n",
            "Enter your authorization code:\n",
            "··········\n",
            "Mounted at /content/drive/\n",
            "drive  sample_data\n"
          ],
          "name": "stdout"
        }
      ]
    },
    {
      "cell_type": "code",
      "metadata": {
        "id": "MeAM_qpIvq4z",
        "colab_type": "code",
        "outputId": "ce809628-b671-49af-9014-9e74ee08b204",
        "colab": {
          "base_uri": "https://localhost:8080/",
          "height": 90
        }
      },
      "source": [
        " #%cd drive/My\\ Drive\n",
        "# !mkdir Project\n",
        "# !mkdir Project/V1\n",
        "!ls \n",
        "#%cd Project/"
      ],
      "execution_count": 0,
      "outputs": [
        {
          "output_type": "stream",
          "text": [
            " Abstract.gdoc\t     'Colab Notebooks'\t'marrage sabreen and mahreen dedi'\n",
            "'baramulla college'   home\t\t'my study doccuments'\n",
            " Classroom\t      IUST\t\t Project\n",
            "/content/drive/My Drive/Project\n"
          ],
          "name": "stdout"
        }
      ]
    },
    {
      "cell_type": "code",
      "metadata": {
        "id": "G7pXVEYYwH_N",
        "colab_type": "code",
        "outputId": "199ce9d4-1474-45d8-fa58-b9a5d9937633",
        "colab": {
          "base_uri": "https://localhost:8080/",
          "height": 54
        }
      },
      "source": [
        "# %cd Project/\n",
        "!unzip fer2013.zip -d ./V1/"
      ],
      "execution_count": 0,
      "outputs": [
        {
          "output_type": "stream",
          "text": [
            "Archive:  fer2013.zip\n",
            "replace ./V1/fer2013.csv? [y]es, [n]o, [A]ll, [N]one, [r]ename: "
          ],
          "name": "stdout"
        }
      ]
    },
    {
      "cell_type": "code",
      "metadata": {
        "colab_type": "code",
        "id": "M3esxoVFVqZ4",
        "outputId": "420254b4-2f4b-4d6f-9ee5-cf1fb8cb9408",
        "colab": {
          "base_uri": "https://localhost:8080/",
          "height": 54
        }
      },
      "source": [
        "import pandas as pd \n",
        "import cv2\n",
        "import numpy as np\n",
        "from PIL import Image\n",
        "import matplotlib.image as mpimg\n",
        "import matplotlib.pyplot as plt\n",
        "import matplotlib.cm as cm\n",
        "import seaborn as sns\n",
        "from sklearn.model_selection import train_test_split\n",
        "from sklearn.metrics import confusion_matrix\n",
        "from keras.models import Sequential, load_model\n",
        "from keras.layers import Conv2D, MaxPooling2D, Dense, Activation, Dropout, Flatten, BatchNormalization\n",
        "from keras.optimizers import Adam\n",
        "from keras.initializers import  RandomNormal\n",
        "from keras.callbacks import ModelCheckpoint, TensorBoard\n",
        "from keras.preprocessing.image import ImageDataGenerator\n",
        "import tensorflow as tf\n",
        "%matplotlib inline\n",
        "\n",
        "# Checking if GPU is available\n",
        "tf.test.gpu_device_name()\n",
        "tf.test.is_gpu_available(cuda_only=False)"
      ],
      "execution_count": 0,
      "outputs": [
        {
          "output_type": "stream",
          "text": [
            "Using TensorFlow backend.\n"
          ],
          "name": "stderr"
        },
        {
          "output_type": "execute_result",
          "data": {
            "text/plain": [
              "True"
            ]
          },
          "metadata": {
            "tags": []
          },
          "execution_count": 7
        }
      ]
    },
    {
      "cell_type": "markdown",
      "metadata": {
        "colab_type": "text",
        "id": "M8MSGR5Uyk6m"
      },
      "source": [
        "# Loading and preprocessing images"
      ]
    },
    {
      "cell_type": "code",
      "metadata": {
        "id": "iQuhx3-FhTei",
        "colab_type": "code",
        "outputId": "64fe9e81-2506-473c-ab36-199c639032f8",
        "colab": {
          "base_uri": "https://localhost:8080/",
          "height": 35
        }
      },
      "source": [
        "# !unzip ../content/fer2013.zip\n",
        "%cd V1"
      ],
      "execution_count": 0,
      "outputs": [
        {
          "output_type": "stream",
          "text": [
            "/content/drive/My Drive/Project/V1\n"
          ],
          "name": "stdout"
        }
      ]
    },
    {
      "cell_type": "code",
      "metadata": {
        "colab_type": "code",
        "id": "UQNZ4C5q4p6L",
        "colab": {}
      },
      "source": [
        "#load data set\n",
        "data = pd.read_csv(\"./fer2013.csv\")"
      ],
      "execution_count": 0,
      "outputs": []
    },
    {
      "cell_type": "code",
      "metadata": {
        "colab_type": "code",
        "id": "MoLNdrj2Us6r",
        "outputId": "b6b81f4e-a479-48c2-f1da-40aa04812903",
        "colab": {
          "base_uri": "https://localhost:8080/",
          "height": 829
        }
      },
      "source": [
        "\n",
        "\n",
        "emotions_names = {0: 'Angry', 1: 'Disgust', 2: 'Fear', 3: 'Happy', 4: 'Sad', 5: 'Surprise', 6: 'Neutral'}\n",
        "data['emotion_name'] = data['emotion'].map(emotions_names)\n",
        "\n",
        "pixels_values = data.pixels.str.split(\" \").tolist()\n",
        "pixels_values = pd.DataFrame(pixels_values, dtype=int)\n",
        "images = pixels_values.values\n",
        "images = images.astype(np.float)\n",
        "\n",
        "test_idx_start = 32298\n",
        "images_test = images[test_idx_start:]\n",
        "\n",
        "\n",
        "# Function for displaying 15 random images\n",
        "def show_random(imgs, emotion_nms_org = None, emotion_nms_pred = None, random = True, indices = None):\n",
        "    \"\"\" \n",
        "\n",
        "    Function displaying 15 randomly chosen images. Arguments:\n",
        "    \n",
        "    imgs:  Source of images\n",
        "    \n",
        "    emotion_nms_org: Default \"None\", if specified, should be a Pandas Series object consisting of emotion names. As a result, emotion name will be displayed above every image.\n",
        "    \n",
        "    emotion_nms_pred: Default \"None\", if specified should be a Pandas Series object with predicted emotion names. As a result, emotion name will be displayed above image.\n",
        "    \n",
        "    random: Defult \"True\", indices will be randomly drawn from “discrete uniform” distribution starting at 0 up to max(len(imgs) otherwise randomly chosen from values passed into \"indices\" argument without replacement.\n",
        "    \n",
        "    indices: Default \"None\", if specified \"random\" should be set to \"False\" to draw random images from the variable passed into \"indices\" argument starting at min(len(indices)) up to max(len(indices)) and not using \"discrete uniform\" distribution. \n",
        "    \n",
        "    \"\"\"\n",
        "    \n",
        "    if random == True:\n",
        "        indices = np.random.randint(0, len(imgs), size = 15)\n",
        "    else:\n",
        "        indices = np.random.choice(list(indices), size = 15, replace = False)\n",
        "    plt.figure(figsize=(20, 14)) \n",
        "    for index, number in enumerate(indices):\n",
        "        plt.subplot(3,5, index + 1)\n",
        "        if (isinstance(emotion_nms_org, type(None)) & isinstance(emotion_nms_pred, type(None))):\n",
        "            plt.title('Image: ' + str(indices[index]))           \n",
        "        elif (isinstance(emotion_nms_org, type(None)) & ~isinstance(emotion_nms_pred, type(None))):\n",
        "            plt.title('Image: ' + str(indices[index]) + '\\n' + 'Predicted emotion:' + emotion_nms_pred[indices[index]])\n",
        "        elif (~isinstance(emotion_nms_org, type(None)) & isinstance(emotion_nms_pred, type(None))):\n",
        "             plt.title('Image: ' + str(indices[index]) + '\\n' + 'Original emotion: ' + emotion_nms_org[indices[index]])           \n",
        "        else:\n",
        "            plt.title('Image: ' + str(indices[index]) + '\\n' + 'Original emotion: ' + emotion_nms_org[indices[index]] + \n",
        "                      '\\n' + 'Predicted emotion:' + emotion_nms_pred[indices[index]])\n",
        "        show_image = imgs[number].reshape(48,48)\n",
        "        plt.axis('off')\n",
        "        plt.imshow(show_image, cmap='gray')\n",
        "        \n",
        "\n",
        "show_random(images, emotion_nms_org= data['emotion_name'])\n",
        "\n",
        "\n",
        "# Standarizing images\n",
        "each_pixel_mean = images.mean(axis=0)\n",
        "each_pixel_std = np.std(images, axis=0)\n",
        "images = np.divide(np.subtract(images,each_pixel_mean), each_pixel_std)\n",
        "\n",
        "\n",
        "image_pixels = images.shape[1]\n",
        "image_width = image_height = np.ceil(np.sqrt(image_pixels)).astype(np.uint8)\n",
        "labels_flat = data[\"emotion\"].values.ravel()\n",
        "labels_count = np.unique(labels_flat).shape[0]\n",
        "\n",
        "\n",
        "# Function for creating zero/ones matrix indicating image label\n",
        "def dense_to_one_hot(labels_dense, num_classes):\n",
        "    num_labels = labels_dense.shape[0]\n",
        "    index_offset = np.arange(num_labels) * num_classes\n",
        "    labels_one_hot = np.zeros((num_labels, num_classes))\n",
        "    labels_one_hot.flat[[index_offset + labels_dense.ravel()]] = 1\n",
        "    return labels_one_hot\n",
        "\n",
        "\n",
        "labels = dense_to_one_hot(labels_flat, labels_count)\n",
        "labels = labels.astype(np.uint8)"
      ],
      "execution_count": 0,
      "outputs": [
        {
          "output_type": "display_data",
          "data": {
            "image/png": "[encoded data removed]",
            "text/plain": [
              "<Figure size 1440x1008 with 15 Axes>"
            ]
          },
          "metadata": {
            "tags": []
          }
        }
      ]
    },
    {
      "cell_type": "code",
      "metadata": {
        "colab_type": "code",
        "id": "M3DgdLubyk6r",
        "colab": {}
      },
      "source": [
        "images = images.reshape(images.shape[0], 48, 48, 1)\n",
        "images = images.astype('float32')\n",
        "\n",
        "# Splitting images and labels into training, validation and testing sets\n",
        "X_train, X_test, y_train, y_test = train_test_split(images, labels, test_size=0.1, shuffle = False)\n",
        "X_train, X_val, y_train, y_val = train_test_split(X_train, y_train, test_size=0.1, shuffle = False)"
      ],
      "execution_count": 0,
      "outputs": []
    },
    {
      "cell_type": "code",
      "metadata": {
        "id": "Qx10FK9x4UlP",
        "colab_type": "code",
        "outputId": "ca75b596-c51e-4756-a200-571b3f5d6ed1",
        "colab": {
          "base_uri": "https://localhost:8080/",
          "height": 54
        }
      },
      "source": [
        "print('Total Data :'+str(len(data)))\n",
        "print('X train :'+str(len(X_train)))"
      ],
      "execution_count": 0,
      "outputs": [
        {
          "output_type": "stream",
          "text": [
            "Total Data :35887\n",
            "X train :29068\n"
          ],
          "name": "stdout"
        }
      ]
    },
    {
      "cell_type": "markdown",
      "metadata": {
        "colab_type": "text",
        "id": "1SHvJ2juyk6u"
      },
      "source": [
        "# Building CNN"
      ]
    },
    {
      "cell_type": "code",
      "metadata": {
        "colab_type": "code",
        "id": "fvVfvlpXUs65",
        "colab": {}
      },
      "source": [
        "# Constructing CNN structure\n",
        "model = Sequential()\n",
        "\n",
        "# 1st convolution layer\n",
        "model.add(Conv2D(64, (3, 3), activation='relu', padding = 'same', input_shape=(48,48,1), bias_initializer=RandomNormal(stddev=1), kernel_initializer=RandomNormal(stddev=1)))\n",
        "model.add(Conv2D(64, (3, 3), activation='relu', padding = 'same', input_shape=(48,48,1), bias_initializer=RandomNormal(stddev=1), kernel_initializer=RandomNormal(stddev=1)))\n",
        "model.add(BatchNormalization())\n",
        "model.add(MaxPooling2D(pool_size=(3,3), strides=(2, 2)))\n",
        "model.add(Dropout(0.20))\n",
        "\n",
        "# 3rd convolution layer\n",
        "model.add(Conv2D(64, (3, 3), activation='relu', padding = 'same', bias_initializer=RandomNormal(stddev=1), kernel_initializer=RandomNormal(stddev=1)))\n",
        "model.add(Conv2D(64, (3, 3), activation='relu', padding = 'same', bias_initializer=RandomNormal(stddev=1), kernel_initializer=RandomNormal(stddev=1)))\n",
        "model.add(BatchNormalization())\n",
        "model.add(MaxPooling2D(pool_size=(3,3), strides=(2, 2)))\n",
        "model.add(Dropout(0.20))\n",
        "          \n",
        "# 5th convolution layer\n",
        "model.add(Conv2D(128, (3, 3), activation='relu', padding = 'same', bias_initializer=RandomNormal(stddev=1), kernel_initializer=RandomNormal(stddev=1)))\n",
        "model.add(Conv2D(128, (3, 3), activation='relu', padding = 'same', bias_initializer=RandomNormal(stddev=1), kernel_initializer=RandomNormal(stddev=1)))\n",
        "model.add(BatchNormalization())\n",
        "model.add(MaxPooling2D(pool_size=(3,3), strides=(2, 2)))\n",
        "model.add(Dropout(0.20))\n",
        "\n",
        "# 7th convolution layer\n",
        "model.add(Conv2D(256, (3, 3), activation='relu', padding = 'same', bias_initializer=RandomNormal(stddev=1), kernel_initializer=RandomNormal(stddev=1)))\n",
        "model.add(Conv2D(256, (3, 3), activation='relu', padding = 'same', bias_initializer=RandomNormal(stddev=1), kernel_initializer=RandomNormal(stddev=1)))\n",
        "model.add(BatchNormalization())\n",
        "model.add(MaxPooling2D(pool_size=(3,3), strides=(2, 2)))\n",
        "model.add(Dropout(0.5))\n",
        "\n",
        "\n",
        "model.add(Flatten())\n",
        "# Fully connected layers\n",
        "model.add(Dense(2048, activation='relu'))\n",
        "model.add(Dropout(0.5))\n",
        "model.add(Dense(labels_count, activation='softmax'))"
      ],
      "execution_count": 0,
      "outputs": []
    },
    {
      "cell_type": "code",
      "metadata": {
        "colab_type": "code",
        "id": "f0DK4TmHUs6-",
        "colab": {}
      },
      "source": [
        "model.summary()"
      ],
      "execution_count": 0,
      "outputs": []
    },
    {
      "cell_type": "markdown",
      "metadata": {
        "colab_type": "text",
        "id": "8MctDHYhyk61"
      },
      "source": [
        "# Training CNN using Data Augmentation"
      ]
    },
    {
      "cell_type": "code",
      "metadata": {
        "colab_type": "code",
        "id": "WqJ6x2nPUs7A",
        "scrolled": true,
        "colab": {}
      },
      "source": [
        "# Compiling model\n",
        "model.compile(loss='categorical_crossentropy', optimizer=Adam(), metrics=['accuracy'])\n",
        "\n",
        "\n",
        "\n",
        "# Specifying parameters for Data Augmentation\n",
        "datagen = ImageDataGenerator(\n",
        "    featurewise_center=False,  # set input mean to 0 over the dataset\n",
        "    samplewise_center=False,  # set each sample mean to 0\n",
        "    featurewise_std_normalization=False,  # divide inputs by std of the dataset\n",
        "    samplewise_std_normalization=False,  # divide each input by its std\n",
        "    zca_whitening=False,  # apply ZCA whitening\n",
        "    rotation_range=40,  # randomly rotate images in the range (degrees, 0 to 180)\n",
        "    width_shift_range=0.2,  # randomly shift images horizontally (fraction of total width)\n",
        "    height_shift_range=0.2,  # randomly shift images vertically (fraction of total height)\n",
        "    horizontal_flip=True,  # randomly flip images\n",
        "    vertical_flip=False,\n",
        "    zoom_range = 0.05)  # zoom images in range [1 - zoom_range, 1+ zoom_range]\n",
        "\n",
        "datagen.fit(X_train)\n",
        "\n",
        "\n",
        "# Saving model each time it achieves lower loss on the validation set\n",
        "filepath='Model.{epoch:02d}-{val_acc:.4f}.hdf5'\n",
        "checkpointer = ModelCheckpoint(filepath, monitor='val_loss', verbose=1, save_best_only=True, mode='auto')\n",
        "tensorboard = TensorBoard(log_dir='./logs')\n",
        "\n",
        "\n",
        "history = model.fit_generator(datagen.flow(X_train, y_train,\n",
        "                    batch_size=32),\n",
        "                    nb_epoch=5,\n",
        "                    validation_data=(X_val, y_val),\n",
        "                    steps_per_epoch=X_train.shape[0]/32,\n",
        "                    callbacks=[checkpointer,tensorboard]\n",
        "                             )\n",
        "\n",
        "\n",
        "pd.DataFrame(history.history).to_csv(\"history.csv\")"
      ],
      "execution_count": 0,
      "outputs": []
    },
    {
      "cell_type": "markdown",
      "metadata": {
        "colab_type": "text",
        "id": "dAuoKm4fyk64"
      },
      "source": [
        "# Loading best model and exploring the results"
      ]
    },
    {
      "cell_type": "code",
      "metadata": {
        "colab_type": "code",
        "id": "egFD3lUWyk65",
        "colab": {}
      },
      "source": [
        "model2 = load_model('../content/Model.99-0.6096.hdf5')"
      ],
      "execution_count": 0,
      "outputs": []
    },
    {
      "cell_type": "code",
      "metadata": {
        "colab_type": "code",
        "id": "hkSnm3Slyk67",
        "colab": {}
      },
      "source": [
        "scores = model2.evaluate(np.array(X_test), np.array(y_test), batch_size=1024)\n",
        "print(\"Loss: \" + str(scores[0]))\n",
        "print(\"Accuracy: \" + str(scores[1]))"
      ],
      "execution_count": 0,
      "outputs": []
    },
    {
      "cell_type": "code",
      "metadata": {
        "colab_type": "code",
        "id": "YI3o4W7pyk6-",
        "colab": {}
      },
      "source": [
        "history = pd.read_csv('history.csv', usecols = ['acc','loss','val_acc','val_loss'])"
      ],
      "execution_count": 0,
      "outputs": []
    },
    {
      "cell_type": "code",
      "metadata": {
        "colab_type": "code",
        "id": "t9sfZi8gUs7I",
        "colab": {}
      },
      "source": [
        "def plot_accuracy(data, size = (20,10)):\n",
        "    plt.figure(figsize=size) \n",
        "    plt.plot(data['acc'])\n",
        "    plt.plot(data['val_acc'])\n",
        "    plt.title('Model Accuracy', fontsize = 18)\n",
        "    plt.ylabel('Accuracy', fontsize = 18)\n",
        "    plt.xlabel('Epoch', fontsize = 18)\n",
        "    plt.legend(['Train', 'Test'], loc='upper left', fontsize = 16)\n",
        "    plt.tick_params(axis='both', labelsize=14)\n",
        "    plt.show()\n",
        "    \n",
        "plot_accuracy(history)"
      ],
      "execution_count": 0,
      "outputs": []
    },
    {
      "cell_type": "code",
      "metadata": {
        "colab_type": "code",
        "id": "tgml8vqzUs7M",
        "colab": {}
      },
      "source": [
        "def plot_loss(data, size = (20,10)):\n",
        "    plt.figure(figsize=size) \n",
        "    plt.plot(data['loss'])\n",
        "    plt.plot(data['val_loss'])\n",
        "    plt.title('Model Loss', fontsize = 18)\n",
        "    plt.ylabel('Loss', fontsize = 18)\n",
        "    plt.xlabel('Epoch', fontsize = 18)\n",
        "    plt.ylim(0.9,2)\n",
        "    plt.legend(['Train', 'Test'], loc='upper left', fontsize = 16)\n",
        "    plt.tick_params(axis='both', labelsize=14)\n",
        "    plt.show()\n",
        "    \n",
        "plot_loss(history)"
      ],
      "execution_count": 0,
      "outputs": []
    },
    {
      "cell_type": "markdown",
      "metadata": {
        "id": "m-FPjg6zh5z0",
        "colab_type": "text"
      },
      "source": [
        "u"
      ]
    },
    {
      "cell_type": "code",
      "metadata": {
        "colab_type": "code",
        "id": "32C1wIfwUs7Q",
        "colab": {}
      },
      "source": [
        "def predict_classes(model, test_imgs, test_labels, emotions_dict,  batch_size  = 32):    \n",
        "\n",
        "    # Predict class of image using trained model\n",
        "    class_pred = model.predict(test_imgs, batch_size = batch_size)\n",
        "\n",
        "    # Convert vector of zeros and ones to label\n",
        "    labels_pred = np.argmax(class_pred,axis=1)\n",
        "    true_labels = np.argmax(test_labels, axis=1)\n",
        "\n",
        "    # Boolean array that indicates whether the predicted label is the true label\n",
        "    correct = labels_pred == true_labels\n",
        "    \n",
        "    # Converting array of labels into emotion names\n",
        "    pred_emotion_names = pd.Series(labels_pred).map(emotions_dict)\n",
        "    \n",
        "    results = {'Predicted_label': labels_pred, 'Predicted_emotion': pred_emotion_names, 'Is_correct' : correct}\n",
        "    results = pd.DataFrame(results)\n",
        "    return correct, results\n",
        "\n",
        "\n",
        "def visualize_predictions(images_test, orglabel_names, predlabel_names, correct_arr, valid = True):\n",
        "    \n",
        "    if valid == True:\n",
        "        correct = np.array(np.where(correct_arr == True))[0]\n",
        "        # Plot 15 randomly selected and correctly predicted images\n",
        "        show_random(images_test, emotion_nms_org = orglabel_names, emotion_nms_pred = predlabel_names, random = False, indices = correct)\n",
        "    else:\n",
        "        incorrect = np.array(np.where(correct_arr == False))[0]\n",
        "        # Plot 15 randomly selected and wrongly predicted images\n",
        "        show_random(images_test, emotion_nms_org = orglabel_names, emotion_nms_pred = predlabel_names, random = False, indices = incorrect)\n",
        " "
      ],
      "execution_count": 0,
      "outputs": []
    },
    {
      "cell_type": "code",
      "metadata": {
        "colab_type": "code",
        "id": "HnKSKw9wyk7L",
        "colab": {}
      },
      "source": [
        "correct, results_df = predict_classes(model2, X_test, y_test, emotions_names, batch_size = 1024)\n",
        "results_df['Original_lok jaanuabel'] = data['emotion'][32298:].values\n",
        "results_df['True_emotion'] = results_df['Original_label'].map(emotions_names)"
      ],
      "execution_count": 0,
      "outputs": []
    },
    {
      "cell_type": "markdown",
      "metadata": {
        "colab_type": "text",
        "id": "mbsfX9SCyk7P"
      },
      "source": [
        "### Correctly predicted images"
      ]
    },
    {
      "cell_type": "code",
      "metadata": {
        "colab_type": "code",
        "id": "X_7SrSn3yk7Q",
        "colab": {}
      },
      "source": [
        "visualize_predictions(images_test, results_df['True_emotion'], results_df['Predicted_emotion'], correct, valid = True)"
      ],
      "execution_count": 0,
      "outputs": []
    },
    {
      "cell_type": "markdown",
      "metadata": {
        "colab_type": "text",
        "id": "0VqZJvQsyk7V"
      },
      "source": [
        "### Wronly predicted images"
      ]
    },
    {
      "cell_type": "code",
      "metadata": {
        "colab_type": "code",
        "id": "FUTJU0hPyk7W",
        "colab": {}
      },
      "source": [
        "visualize_predictions(images_test, results_df['True_emotion'], results_df['Predicted_emotion'], correct, valid = False)"
      ],
      "execution_count": 0,
      "outputs": []
    },
    {
      "cell_type": "markdown",
      "metadata": {
        "colab_type": "text",
        "id": "c3oy2EgCyk7a"
      },
      "source": [
        "### Confusion matrix"
      ]
    },
    {
      "cell_type": "code",
      "metadata": {
        "colab_type": "code",
        "id": "k7Pn_5Bsyk7b",
        "colab": {}
      },
      "source": [
        "def create_confmat(true_labels, predicted_labels, columns, colour = 'Oranges', size = (20,14)):\n",
        "    \n",
        "    cm = confusion_matrix(true_labels, predicted_labels) \n",
        "    cm_df = pd.DataFrame(cm,\n",
        "    index = [col for col in columns], \n",
        "    columns = [col for col in columns])\n",
        "    plt.figure(figsize=(18,16))\n",
        "    sns.heatmap(cm_df, annot = True, cmap = colour, fmt='g', linewidths=.2)\n",
        "    plt.title('Confusion Matrix', fontsize = 20)\n",
        "    plt.ylabel('True label', fontsize = 18)\n",
        "    plt.xlabel('Predicted label', fontsize = 18)\n",
        "    plt.tick_params(axis='both', labelsize=14)\n",
        "    plt.show()"
      ],
      "execution_count": 0,
      "outputs": []
    },
    {
      "cell_type": "code",
      "metadata": {
        "colab_type": "code",
        "id": "387GsGFSyk7f",
        "colab": {}
      },
      "source": [
        "# Displaying confusion matrix\n",
        "create_confmat(results_df['Original_label'], results_df['Predicted_label'], ['Angry','Disgust','Fear', 'Happy', 'Sad', 'Surprise', 'Neutral'], colour = 'Greens')"
      ],
      "execution_count": 0,
      "outputs": []
    },
    {
      "cell_type": "markdown",
      "metadata": {
        "id": "I1SmmUOVRJSe",
        "colab_type": "text"
      },
      "source": [
        "# supplying an image to our saved model\n"
      ]
    },
    {
      "cell_type": "code",
      "metadata": {
        "id": "ljsn5WWoP000",
        "colab_type": "code",
        "outputId": "b092f62c-5aec-405f-e6d3-e2e96a2eac58",
        "colab": {
          "base_uri": "https://localhost:8080/",
          "height": 1000
        }
      },
      "source": [
        "img = Image.open('../content/test.png') # image extension *.png,*.jpg\n",
        "new_width  = 48\n",
        "new_height = 48\n",
        "img = img.resize((new_width, new_height), Image.ANTIALIAS)\n",
        "plt.imshow(img,cmap=\"Greys_r\")\n",
        "img.save('new_img.jpg')\n",
        "new_img = np.expand_dims(img, axis=0)\n",
        "imag = np.asarray(new_img)\n",
        "print(imag)\n",
        "model2 = load_model('../content/Model.49-0.5737.hdf5')\n",
        "predicted_class = np.argmax(model2.predict(imag))\n",
        "print(predict_class)\n"
      ],
      "execution_count": 0,
      "outputs": [
        {
          "output_type": "stream",
          "text": [
            "WARNING: Logging before flag parsing goes to stderr.\n",
            "W0731 07:43:50.427911 140081686615936 deprecation_wrapper.py:119] From /usr/local/lib/python3.6/dist-packages/keras/backend/tensorflow_backend.py:517: The name tf.placeholder is deprecated. Please use tf.compat.v1.placeholder instead.\n",
            "\n",
            "W0731 07:43:50.432182 140081686615936 deprecation_wrapper.py:119] From /usr/local/lib/python3.6/dist-packages/keras/backend/tensorflow_backend.py:4115: The name tf.random_normal is deprecated. Please use tf.random.normal instead.\n",
            "\n",
            "W0731 07:43:50.483467 140081686615936 deprecation_wrapper.py:119] From /usr/local/lib/python3.6/dist-packages/keras/backend/tensorflow_backend.py:245: The name tf.get_default_graph is deprecated. Please use tf.compat.v1.get_default_graph instead.\n",
            "\n",
            "W0731 07:43:50.484774 140081686615936 deprecation_wrapper.py:119] From /usr/local/lib/python3.6/dist-packages/keras/backend/tensorflow_backend.py:174: The name tf.get_default_session is deprecated. Please use tf.compat.v1.get_default_session instead.\n",
            "\n",
            "W0731 07:43:50.486579 140081686615936 deprecation_wrapper.py:119] From /usr/local/lib/python3.6/dist-packages/keras/backend/tensorflow_backend.py:181: The name tf.ConfigProto is deprecated. Please use tf.compat.v1.ConfigProto instead.\n",
            "\n"
          ],
          "name": "stderr"
        },
        {
          "output_type": "stream",
          "text": [
            "[[[94 87 57 ... 57 75 96]\n",
            "  [91 82 55 ... 59 63 89]\n",
            "  [92 81 46 ... 56 64 71]\n",
            "  ...\n",
            "  [78 74 58 ... 62 70 77]\n",
            "  [77 66 62 ... 45 70 76]\n",
            "  [74 62 65 ... 35 74 87]]]\n"
          ],
          "name": "stdout"
        },
        {
          "output_type": "stream",
          "text": [
            "W0731 07:43:50.971762 140081686615936 deprecation_wrapper.py:119] From /usr/local/lib/python3.6/dist-packages/keras/backend/tensorflow_backend.py:1834: The name tf.nn.fused_batch_norm is deprecated. Please use tf.compat.v1.nn.fused_batch_norm instead.\n",
            "\n",
            "W0731 07:43:51.054991 140081686615936 deprecation_wrapper.py:119] From /usr/local/lib/python3.6/dist-packages/keras/backend/tensorflow_backend.py:3976: The name tf.nn.max_pool is deprecated. Please use tf.nn.max_pool2d instead.\n",
            "\n",
            "W0731 07:43:51.067047 140081686615936 deprecation.py:506] From /usr/local/lib/python3.6/dist-packages/keras/backend/tensorflow_backend.py:3445: calling dropout (from tensorflow.python.ops.nn_ops) with keep_prob is deprecated and will be removed in a future version.\n",
            "Instructions for updating:\n",
            "Please use `rate` instead of `keep_prob`. Rate should be set to `rate = 1 - keep_prob`.\n",
            "W0731 07:43:51.973932 140081686615936 deprecation_wrapper.py:119] From /usr/local/lib/python3.6/dist-packages/keras/optimizers.py:790: The name tf.train.Optimizer is deprecated. Please use tf.compat.v1.train.Optimizer instead.\n",
            "\n",
            "W0731 07:43:52.110640 140081686615936 deprecation.py:323] From /usr/local/lib/python3.6/dist-packages/tensorflow/python/ops/math_grad.py:1250: add_dispatch_support.<locals>.wrapper (from tensorflow.python.ops.array_ops) is deprecated and will be removed in a future version.\n",
            "Instructions for updating:\n",
            "Use tf.where in 2.0, which has the same broadcast rule as np.where\n"
          ],
          "name": "stderr"
        },
        {
          "output_type": "error",
          "ename": "ValueError",
          "evalue": "ignored",
          "traceback": [
            "\u001b[0;31m---------------------------------------------------------------------------\u001b[0m",
            "\u001b[0;31mValueError\u001b[0m                                Traceback (most recent call last)",
            "\u001b[0;32m<ipython-input-10-adf29c870d6d>\u001b[0m in \u001b[0;36m<module>\u001b[0;34m()\u001b[0m\n\u001b[1;32m      9\u001b[0m \u001b[0mprint\u001b[0m\u001b[0;34m(\u001b[0m\u001b[0mimag\u001b[0m\u001b[0;34m)\u001b[0m\u001b[0;34m\u001b[0m\u001b[0;34m\u001b[0m\u001b[0m\n\u001b[1;32m     10\u001b[0m \u001b[0mmodel2\u001b[0m \u001b[0;34m=\u001b[0m \u001b[0mload_model\u001b[0m\u001b[0;34m(\u001b[0m\u001b[0;34m'../content/Model.49-0.5737.hdf5'\u001b[0m\u001b[0;34m)\u001b[0m\u001b[0;34m\u001b[0m\u001b[0;34m\u001b[0m\u001b[0m\n\u001b[0;32m---> 11\u001b[0;31m \u001b[0mpredicted_class\u001b[0m \u001b[0;34m=\u001b[0m \u001b[0mnp\u001b[0m\u001b[0;34m.\u001b[0m\u001b[0margmax\u001b[0m\u001b[0;34m(\u001b[0m\u001b[0mmodel2\u001b[0m\u001b[0;34m.\u001b[0m\u001b[0mpredict\u001b[0m\u001b[0;34m(\u001b[0m\u001b[0mimag\u001b[0m\u001b[0;34m)\u001b[0m\u001b[0;34m)\u001b[0m\u001b[0;34m\u001b[0m\u001b[0;34m\u001b[0m\u001b[0m\n\u001b[0m\u001b[1;32m     12\u001b[0m \u001b[0mprint\u001b[0m\u001b[0;34m(\u001b[0m\u001b[0mpredict_class\u001b[0m\u001b[0;34m)\u001b[0m\u001b[0;34m\u001b[0m\u001b[0;34m\u001b[0m\u001b[0m\n",
            "\u001b[0;32m/usr/local/lib/python3.6/dist-packages/keras/engine/training.py\u001b[0m in \u001b[0;36mpredict\u001b[0;34m(self, x, batch_size, verbose, steps)\u001b[0m\n\u001b[1;32m   1147\u001b[0m                              'argument.')\n\u001b[1;32m   1148\u001b[0m         \u001b[0;31m# Validate user data.\u001b[0m\u001b[0;34m\u001b[0m\u001b[0;34m\u001b[0m\u001b[0;34m\u001b[0m\u001b[0m\n\u001b[0;32m-> 1149\u001b[0;31m         \u001b[0mx\u001b[0m\u001b[0;34m,\u001b[0m \u001b[0m_\u001b[0m\u001b[0;34m,\u001b[0m \u001b[0m_\u001b[0m \u001b[0;34m=\u001b[0m \u001b[0mself\u001b[0m\u001b[0;34m.\u001b[0m\u001b[0m_standardize_user_data\u001b[0m\u001b[0;34m(\u001b[0m\u001b[0mx\u001b[0m\u001b[0;34m)\u001b[0m\u001b[0;34m\u001b[0m\u001b[0;34m\u001b[0m\u001b[0m\n\u001b[0m\u001b[1;32m   1150\u001b[0m         \u001b[0;32mif\u001b[0m \u001b[0mself\u001b[0m\u001b[0;34m.\u001b[0m\u001b[0mstateful\u001b[0m\u001b[0;34m:\u001b[0m\u001b[0;34m\u001b[0m\u001b[0;34m\u001b[0m\u001b[0m\n\u001b[1;32m   1151\u001b[0m             \u001b[0;32mif\u001b[0m \u001b[0mx\u001b[0m\u001b[0;34m[\u001b[0m\u001b[0;36m0\u001b[0m\u001b[0;34m]\u001b[0m\u001b[0;34m.\u001b[0m\u001b[0mshape\u001b[0m\u001b[0;34m[\u001b[0m\u001b[0;36m0\u001b[0m\u001b[0;34m]\u001b[0m \u001b[0;34m>\u001b[0m \u001b[0mbatch_size\u001b[0m \u001b[0;32mand\u001b[0m \u001b[0mx\u001b[0m\u001b[0;34m[\u001b[0m\u001b[0;36m0\u001b[0m\u001b[0;34m]\u001b[0m\u001b[0;34m.\u001b[0m\u001b[0mshape\u001b[0m\u001b[0;34m[\u001b[0m\u001b[0;36m0\u001b[0m\u001b[0;34m]\u001b[0m \u001b[0;34m%\u001b[0m \u001b[0mbatch_size\u001b[0m \u001b[0;34m!=\u001b[0m \u001b[0;36m0\u001b[0m\u001b[0;34m:\u001b[0m\u001b[0;34m\u001b[0m\u001b[0;34m\u001b[0m\u001b[0m\n",
            "\u001b[0;32m/usr/local/lib/python3.6/dist-packages/keras/engine/training.py\u001b[0m in \u001b[0;36m_standardize_user_data\u001b[0;34m(self, x, y, sample_weight, class_weight, check_array_lengths, batch_size)\u001b[0m\n\u001b[1;32m    749\u001b[0m             \u001b[0mfeed_input_shapes\u001b[0m\u001b[0;34m,\u001b[0m\u001b[0;34m\u001b[0m\u001b[0;34m\u001b[0m\u001b[0m\n\u001b[1;32m    750\u001b[0m             \u001b[0mcheck_batch_axis\u001b[0m\u001b[0;34m=\u001b[0m\u001b[0;32mFalse\u001b[0m\u001b[0;34m,\u001b[0m  \u001b[0;31m# Don't enforce the batch size.\u001b[0m\u001b[0;34m\u001b[0m\u001b[0;34m\u001b[0m\u001b[0m\n\u001b[0;32m--> 751\u001b[0;31m             exception_prefix='input')\n\u001b[0m\u001b[1;32m    752\u001b[0m \u001b[0;34m\u001b[0m\u001b[0m\n\u001b[1;32m    753\u001b[0m         \u001b[0;32mif\u001b[0m \u001b[0my\u001b[0m \u001b[0;32mis\u001b[0m \u001b[0;32mnot\u001b[0m \u001b[0;32mNone\u001b[0m\u001b[0;34m:\u001b[0m\u001b[0;34m\u001b[0m\u001b[0;34m\u001b[0m\u001b[0m\n",
            "\u001b[0;32m/usr/local/lib/python3.6/dist-packages/keras/engine/training_utils.py\u001b[0m in \u001b[0;36mstandardize_input_data\u001b[0;34m(data, names, shapes, check_batch_axis, exception_prefix)\u001b[0m\n\u001b[1;32m    126\u001b[0m                         \u001b[0;34m': expected '\u001b[0m \u001b[0;34m+\u001b[0m \u001b[0mnames\u001b[0m\u001b[0;34m[\u001b[0m\u001b[0mi\u001b[0m\u001b[0;34m]\u001b[0m \u001b[0;34m+\u001b[0m \u001b[0;34m' to have '\u001b[0m \u001b[0;34m+\u001b[0m\u001b[0;34m\u001b[0m\u001b[0;34m\u001b[0m\u001b[0m\n\u001b[1;32m    127\u001b[0m                         \u001b[0mstr\u001b[0m\u001b[0;34m(\u001b[0m\u001b[0mlen\u001b[0m\u001b[0;34m(\u001b[0m\u001b[0mshape\u001b[0m\u001b[0;34m)\u001b[0m\u001b[0;34m)\u001b[0m \u001b[0;34m+\u001b[0m \u001b[0;34m' dimensions, but got array '\u001b[0m\u001b[0;34m\u001b[0m\u001b[0;34m\u001b[0m\u001b[0m\n\u001b[0;32m--> 128\u001b[0;31m                         'with shape ' + str(data_shape))\n\u001b[0m\u001b[1;32m    129\u001b[0m                 \u001b[0;32mif\u001b[0m \u001b[0;32mnot\u001b[0m \u001b[0mcheck_batch_axis\u001b[0m\u001b[0;34m:\u001b[0m\u001b[0;34m\u001b[0m\u001b[0;34m\u001b[0m\u001b[0m\n\u001b[1;32m    130\u001b[0m                     \u001b[0mdata_shape\u001b[0m \u001b[0;34m=\u001b[0m \u001b[0mdata_shape\u001b[0m\u001b[0;34m[\u001b[0m\u001b[0;36m1\u001b[0m\u001b[0;34m:\u001b[0m\u001b[0;34m]\u001b[0m\u001b[0;34m\u001b[0m\u001b[0;34m\u001b[0m\u001b[0m\n",
            "\u001b[0;31mValueError\u001b[0m: Error when checking input: expected conv2d_1_input to have 4 dimensions, but got array with shape (1, 48, 48)"
          ]
        },
        {
          "output_type": "display_data",
          "data": {
            "image/png": "[encoded data removed]",
            "text/plain": [
              "<Figure size 432x288 with 1 Axes>"
            ]
          },
          "metadata": {
            "tags": []
          }
        }
      ]
    }
  ]
}